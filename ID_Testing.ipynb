{
 "cells": [
  {
   "cell_type": "code",
   "execution_count": 1,
   "id": "c590ae9a",
   "metadata": {},
   "outputs": [],
   "source": [
    "#!/usr/bin/env python3\n",
    "import argparse\n",
    "from importlib import import_module\n",
    "from itertools import count\n",
    "import os\n",
    "\n",
    "import h5py\n",
    "import json\n",
    "import numpy as np\n",
    "from sklearn.metrics import average_precision_score\n",
    "import tensorflow as tf\n",
    "\n",
    "import common\n",
    "import loss\n",
    "\n",
    "from numpy import array\n",
    "from numpy import argmax\n",
    "from sklearn.preprocessing import LabelEncoder\n",
    "from sklearn.preprocessing import OneHotEncoder\n",
    "from sklearn.model_selection import train_test_split\n",
    "from sklearn.utils import class_weight\n",
    "from keras.utils.np_utils import to_categorical\n",
    "from keras.layers import LeakyReLU, Concatenate, concatenate, Lambda, UpSampling2D, Add, Input, Dense\n",
    "from keras.layers import Conv2D, MaxPooling2D, Activation, Dropout, Flatten, BatchNormalization"
   ]
  },
  {
   "cell_type": "code",
   "execution_count": 2,
   "id": "b441c88a",
   "metadata": {},
   "outputs": [],
   "source": [
    "class Args:\n",
    "    excluder= 'market1501' #, 'diagonal','cuhk03','duke'\n",
    "    query_dataset = '/home/k/kajal/triplet-reid/data/market1501/market1501_query.csv'\n",
    "    query_embeddings = '/home/k/kajal/triplet-reid/experiments/MARKET/marketoriginal/testing_features/25k/test_embeddings.h5'\n",
    "    query_embeddings_adv = '/home/k/kajal/triplet-reid/experiments//MARKET/marketrecon255/test_embeddings.h5'\n",
    "    gallery_dataset = '/home/k/kajal/triplet-reid/data/market1501/market1501_test.csv'\n",
    "    gallery_embeddings =  '/home/k/kajal/triplet-reid/experiments/MARKET/marketoriginal/testing_features/25k/query_embeddings.h5'\n",
    "    metric =  'euclidean'\n",
    "    #filename = \n",
    "    batch_size = 18"
   ]
  },
  {
   "cell_type": "code",
   "execution_count": 3,
   "id": "f340f687",
   "metadata": {},
   "outputs": [],
   "source": [
    "args=Args()"
   ]
  },
  {
   "cell_type": "code",
   "execution_count": 4,
   "id": "dc995128",
   "metadata": {},
   "outputs": [],
   "source": [
    "# Load the query and gallery data from the CSV files.\n",
    "query_pids, query_fids = common.load_dataset(args.query_dataset, None)\n",
    "gallery_pids, gallery_fids = common.load_dataset(args.gallery_dataset, None)\n",
    "\n",
    "# Load the two datasets fully into memory.\n",
    "with h5py.File(args.query_embeddings, 'r') as f_query:\n",
    "    query_embs = np.array(f_query['emb'])\n",
    "    query_embs_dp = np.array(f_query['emb'])\n",
    "with h5py.File(args.gallery_embeddings, 'r') as f_gallery:\n",
    "    gallery_embs = np.array(f_gallery['emb'])"
   ]
  },
  {
   "cell_type": "code",
   "execution_count": 5,
   "id": "d241b012",
   "metadata": {},
   "outputs": [],
   "source": [
    "gallery_embs=gallery_embs[6618:]\n",
    "gallery_pids=gallery_pids[6618:]"
   ]
  },
  {
   "cell_type": "code",
   "execution_count": 6,
   "id": "d1191a2b",
   "metadata": {},
   "outputs": [
    {
     "name": "stdout",
     "output_type": "stream",
     "text": [
      "750\n"
     ]
    },
    {
     "data": {
      "text/plain": [
       "750"
      ]
     },
     "execution_count": 6,
     "metadata": {},
     "output_type": "execute_result"
    }
   ],
   "source": [
    "uni_pids=np.unique(gallery_pids)\n",
    "print(len(uni_pids))\n",
    "uni_query_pids=np.unique(query_pids)\n",
    "len(uni_query_pids)"
   ]
  },
  {
   "cell_type": "code",
   "execution_count": 7,
   "id": "79e17ce6",
   "metadata": {},
   "outputs": [
    {
     "name": "stdout",
     "output_type": "stream",
     "text": [
      "(3368, 128)\n",
      "(13114, 128)\n"
     ]
    }
   ],
   "source": [
    "print(query_embs.shape)\n",
    "print(gallery_embs.shape)"
   ]
  },
  {
   "cell_type": "code",
   "execution_count": 8,
   "id": "875f7e78",
   "metadata": {},
   "outputs": [
    {
     "name": "stdout",
     "output_type": "stream",
     "text": [
      "[ 4.8578076   0.49806583 -2.1642919   0.21160865  0.4522472   1.4865713\n",
      "  2.5339327  -2.2136059  -0.49413547 -3.6067448  -0.73834336  2.2198305\n",
      "  1.59626    -0.24341315 -0.820219   -1.7269121  -0.31842628  2.3572934\n",
      " -0.30042982 -2.7999177  -3.0881202  -3.6693394   0.5437899  -2.4301896\n",
      " -4.5000668  -4.8148327   0.25089148  3.896863   -3.1136765   1.3295243\n",
      "  1.7783343  -3.020879   -2.7537892   0.15144461  2.7678092  -1.0873866\n",
      " -2.6008525  -2.6290553   3.1873167  -0.2377414   2.2257316  -1.0330088\n",
      "  0.8257315   0.7888453  -2.4868639   1.9264647   5.35813    -0.994812\n",
      " -3.0382683   3.0301461   0.9270819   3.3572843   2.2385774   2.4474237\n",
      " -2.2447503   2.1503158   0.63729393  0.8220682  -3.1866279  -0.591922\n",
      " -1.3412789  -0.84140223  0.9233606   4.508226    1.0028676  -0.0552148\n",
      "  3.1772554  -2.3806617  -0.20249811  3.7637513  -0.87892663 -1.0978868\n",
      "  0.7866139   4.805693   -4.618082    2.190352    0.07782728 -1.3974516\n",
      "  1.4566518   1.8277098  -3.1526055  -0.16021012  1.7365348   0.44539914\n",
      " -0.15081199  0.2795577  -5.042882    0.8029358  -4.8248873   0.01279515\n",
      " -3.7777967   3.7866018   1.8345692  -0.45757082 -1.5564219   3.2983868\n",
      "  1.1779069  -3.9412694  -1.3669785   4.222235   -0.30154744  0.9666342\n",
      "  6.2909293  -3.95512    -2.5970774  -1.6338987   1.1270219  -1.8876104\n",
      " -1.9504184  -0.42331296  0.87199163 -0.8460749  -2.040567   -0.34308326\n",
      "  1.4374535   2.1805222  -2.4444203  -3.2399397  -1.0793442   1.3864654\n",
      " -1.8267918  -2.6942887  -1.5162665   0.29215994 -0.5027525   2.8984687\n",
      "  1.2347713  -2.1997123 ] [ 2.1380768e+00  1.3366344e+00 -2.4616911e+00 -3.4284270e+00\n",
      " -3.7824855e+00 -7.0495117e-01  2.3073168e+00 -1.6904271e+00\n",
      "  1.6735642e+00 -4.6200829e+00 -7.6613096e-03  2.8439960e+00\n",
      "  4.9420862e+00  2.1390681e+00  5.1195211e+00 -3.8945706e+00\n",
      " -8.3464599e-01 -8.4217215e-01 -6.9050819e-01 -4.1529002e+00\n",
      " -8.1762648e-01 -1.3356069e+00 -2.3338523e+00 -1.2990856e+00\n",
      " -7.7871137e+00 -1.3086123e+00 -1.9906504e+00  1.7245204e+00\n",
      "  1.6752076e+00 -3.6597302e+00  1.2288750e+00 -1.3163805e-02\n",
      " -1.2606986e+00  5.7039267e-01  5.1747246e+00 -2.0828431e+00\n",
      "  1.9205670e+00 -3.0719948e+00 -2.7340155e+00 -6.8826830e-01\n",
      "  5.3417504e-01  7.8305459e-01  3.4887407e+00 -2.5742359e+00\n",
      " -2.2052362e+00 -3.1521615e-01  3.2152946e+00 -2.6537218e+00\n",
      " -4.5252948e+00 -4.5907554e-01 -9.7663486e-01  6.9332808e-01\n",
      "  2.5922265e+00  2.8619742e+00 -2.8063898e+00  5.7159418e-01\n",
      " -1.3475924e+00  4.8562902e-01 -2.5518410e+00  1.5337889e-01\n",
      "  1.3698208e+00  2.1630769e+00  8.1689435e-01  2.4381881e+00\n",
      "  5.1188940e-01  1.2272215e+00  4.5889173e+00  8.2693571e-01\n",
      "  1.3738978e+00  1.3744018e+00  5.2968025e+00 -3.9685764e+00\n",
      "  6.6263187e-01  2.7681944e+00 -2.1287344e+00 -4.6741632e-01\n",
      "  4.1814775e+00 -3.5449970e-01  5.7788765e-01  2.6651182e+00\n",
      " -8.3534181e-01 -2.8096008e+00  9.7464931e-01 -2.6266236e+00\n",
      " -7.8971100e-01 -2.5302464e-01 -1.6829093e+00  2.3743017e+00\n",
      " -3.1903563e+00  2.7879915e+00  2.4225812e-02  1.5404146e+00\n",
      " -5.1179707e-01 -2.1253289e-01  1.2603710e+00  1.4185383e+00\n",
      " -1.8709500e+00 -2.4383850e+00  7.7872211e-01  3.0953012e+00\n",
      "  1.4042591e+00  2.0263858e+00  4.1569910e+00 -2.1496718e+00\n",
      "  4.1037256e-01 -5.3097397e-01  7.3887503e-01 -1.3851079e+00\n",
      " -1.0910078e+00 -1.9905329e+00 -8.7973326e-01 -2.5570917e+00\n",
      " -3.0803666e+00  1.1505336e+00 -2.3677787e-01  8.7903816e-01\n",
      " -1.7733196e+00 -2.7850158e+00  1.2710413e+00 -6.9009870e-01\n",
      " -1.3900976e+00 -2.5319476e+00 -1.4397944e+00  8.9680511e-01\n",
      "  3.8219883e+00  4.2968905e-01  1.4678340e+00 -2.2035672e-01]\n"
     ]
    }
   ],
   "source": [
    "print(query_embs[0],query_embs[1])"
   ]
  },
  {
   "cell_type": "code",
   "execution_count": 9,
   "id": "95d48cc3",
   "metadata": {},
   "outputs": [
    {
     "name": "stdout",
     "output_type": "stream",
     "text": [
      "-10.587848 -0.05182138 13.120755 2.3269873\n"
     ]
    }
   ],
   "source": [
    "#query_embs_dp=query_embs\n",
    "query_embs_dp.shape\n",
    "query_embs[0]\n",
    "print(np.min(query_embs),np.mean(query_embs),np.max(query_embs),np.std(query_embs))"
   ]
  },
  {
   "cell_type": "code",
   "execution_count": null,
   "id": "7288d0f6",
   "metadata": {},
   "outputs": [],
   "source": [
    "query_embs_dp[0,1]=np.random.normal(0.021068161,2.312213)\n",
    "query_embs_dp=np.exp(0.7) * query_embs_dp +0.001\n",
    "print(query_embs[0])\n",
    "print(query_embs_dp[0])"
   ]
  },
  {
   "cell_type": "code",
   "execution_count": null,
   "id": "fe3c43a3",
   "metadata": {},
   "outputs": [],
   "source": [
    "def l1(actual, pred): \n",
    "    actual, pred = np.array(actual), np.array(pred)\n",
    "    return np.max(np.subtract(actual,pred)).mean()\n",
    "\n",
    "def mse(actual, pred): \n",
    "    actual, pred = np.array(actual), np.array(pred)\n",
    "    return np.max(np.square(np.subtract(actual,pred)).mean())\n",
    "\n",
    "D0 = query_embs + np.random.normal(0.021068161,2.312213)\n",
    "D1 = query_embs_dp + np.random.normal(0.021068161,2.312213)\n",
    "#print(D0,D1)\n",
    "#sens1 = l1(query_embs,query_embs_dp)\n",
    "sens2 = mse(D0,D1)\n",
    "print(sens2)"
   ]
  },
  {
   "cell_type": "code",
   "execution_count": 10,
   "id": "0e8f38c4",
   "metadata": {},
   "outputs": [
    {
     "name": "stdout",
     "output_type": "stream",
     "text": [
      "values ['0001' '0001' '0001' ... '1501' '1501' '1501']\n",
      "encoded [  0   0   0 ... 749 749 749]\n",
      "(3368, 750)\n"
     ]
    }
   ],
   "source": [
    "query_data = query_pids\n",
    "query_values = array(query_data)\n",
    "print('values', query_values)\n",
    "# integer encode\n",
    "query_label_encoder = LabelEncoder()\n",
    "query_integer_encoded = query_label_encoder.fit_transform(query_values)\n",
    "print('encoded', query_integer_encoded)\n",
    "# binary encode\n",
    "query_onehot_encoder = OneHotEncoder(sparse=False)\n",
    "query_integer_encoded = query_integer_encoded.reshape(len(query_integer_encoded), 1)\n",
    "query_onehot_encoded = query_onehot_encoder.fit_transform(query_integer_encoded)\n",
    "print(query_onehot_encoded.shape)"
   ]
  },
  {
   "cell_type": "code",
   "execution_count": 11,
   "id": "a5e8f744",
   "metadata": {},
   "outputs": [
    {
     "name": "stdout",
     "output_type": "stream",
     "text": [
      "values ['0001' '0001' '0001' ... '1501' '1501' '1501']\n",
      "encoded [  0   0   0 ... 749 749 749]\n",
      "(13114, 750)\n"
     ]
    }
   ],
   "source": [
    "data = gallery_pids\n",
    "values = array(data)\n",
    "print('values', values)\n",
    "# integer encode\n",
    "label_encoder = LabelEncoder()\n",
    "integer_encoded = label_encoder.fit_transform(values)\n",
    "print('encoded', integer_encoded)\n",
    "# binary encode\n",
    "onehot_encoder = OneHotEncoder(sparse=False)\n",
    "integer_encoded = integer_encoded.reshape(len(integer_encoded), 1)\n",
    "onehot_encoded = onehot_encoder.fit_transform(integer_encoded)\n",
    "print(onehot_encoded.shape)"
   ]
  },
  {
   "cell_type": "code",
   "execution_count": 14,
   "id": "5569cc2a",
   "metadata": {},
   "outputs": [],
   "source": [
    "X_train  = gallery_embs\n",
    "Y_train_label = onehot_encoded\n",
    "X_test = query_embs\n",
    "Y_test_label = query_onehot_encoded\n",
    "#print(X_train.size)\n",
    "#print(X_test.size)\n",
    "#print(Y_train_label)\n",
    "#print(Y_test_label)"
   ]
  },
  {
   "cell_type": "code",
   "execution_count": 15,
   "id": "27ad0251",
   "metadata": {},
   "outputs": [],
   "source": [
    "#print(Y_train_label[2:5000])\n",
    "#y_train_label = to_categorical(Y_train_label)\n",
    "#y_train_label.shape"
   ]
  },
  {
   "cell_type": "code",
   "execution_count": 16,
   "id": "d6c5e22c",
   "metadata": {},
   "outputs": [
    {
     "name": "stdout",
     "output_type": "stream",
     "text": [
      "Model: \"sequential\"\n",
      "_________________________________________________________________\n",
      " Layer (type)                Output Shape              Param #   \n",
      "=================================================================\n",
      " dense (Dense)               (None, 512)               66048     \n",
      "                                                                 \n",
      " dropout (Dropout)           (None, 512)               0         \n",
      "                                                                 \n",
      " dense_1 (Dense)             (None, 750)               384750    \n",
      "                                                                 \n",
      "=================================================================\n",
      "Total params: 450,798\n",
      "Trainable params: 450,798\n",
      "Non-trainable params: 0\n",
      "_________________________________________________________________\n",
      "None\n"
     ]
    }
   ],
   "source": [
    "from keras.models import Sequential\n",
    "from keras.layers import Dense\n",
    "model = Sequential()\n",
    "model.add( Dense(units=512, input_dim=128, kernel_initializer='normal', activation='relu') )\n",
    "model.add( Dropout(0.5))\n",
    "model.add( Dense(units=750, kernel_initializer='normal', activation='softmax') )\n",
    "print( model.summary() )\n",
    "model.compile( loss='categorical_crossentropy', optimizer= 'adam', metrics=['accuracy'])"
   ]
  },
  {
   "cell_type": "code",
   "execution_count": 17,
   "id": "1fe9922a",
   "metadata": {},
   "outputs": [
    {
     "name": "stdout",
     "output_type": "stream",
     "text": [
      "Epoch 1/5\n",
      "82/82 - 6s - loss: 3.8600 - accuracy: 0.3208 - val_loss: 11.5978 - val_accuracy: 0.0000e+00 - 6s/epoch - 67ms/step\n",
      "Epoch 2/5\n",
      "82/82 - 1s - loss: 1.0350 - accuracy: 0.7296 - val_loss: 13.2463 - val_accuracy: 0.0000e+00 - 777ms/epoch - 9ms/step\n",
      "Epoch 3/5\n",
      "82/82 - 1s - loss: 0.5768 - accuracy: 0.8346 - val_loss: 14.1162 - val_accuracy: 0.0038 - 1s/epoch - 14ms/step\n",
      "Epoch 4/5\n",
      "82/82 - 1s - loss: 0.4013 - accuracy: 0.8853 - val_loss: 14.7465 - val_accuracy: 0.0038 - 722ms/epoch - 9ms/step\n",
      "Epoch 5/5\n",
      "82/82 - 1s - loss: 0.3253 - accuracy: 0.9022 - val_loss: 15.3227 - val_accuracy: 0.0038 - 741ms/epoch - 9ms/step\n"
     ]
    }
   ],
   "source": [
    "train_history = model.fit( x=gallery_embs, y=Y_train_label, validation_split=0.2, epochs=5, batch_size=128, verbose=2)"
   ]
  },
  {
   "cell_type": "code",
   "execution_count": 18,
   "id": "89cc86fc",
   "metadata": {},
   "outputs": [
    {
     "name": "stdout",
     "output_type": "stream",
     "text": [
      "Evaluate on test data\n",
      "106/106 [==============================] - 1s 9ms/step - loss: 3.5556 - accuracy: 0.7325\n",
      "test loss, test acc: [3.5555636882781982, 0.7324821949005127]\n",
      "Generate predictions for 3 samples\n",
      "106/106 [==============================] - 1s 4ms/step\n",
      "predictions shape: [[9.9972016e-01 4.9103960e-08 5.2692636e-15 ... 2.1290048e-10\n",
      "  1.7710953e-12 4.3518487e-11]\n",
      " [3.4667744e-04 1.1135455e-05 4.1214370e-09 ... 8.4548248e-07\n",
      "  2.8294227e-09 3.3559013e-07]\n",
      " [9.7922611e-01 2.9854311e-07 1.1216707e-13 ... 1.1224925e-09\n",
      "  4.8283461e-12 4.4735254e-10]\n",
      " ...\n",
      " [2.2129910e-03 2.7436830e-05 1.2236872e-08 ... 4.3993583e-05\n",
      "  1.3805845e-07 5.6850522e-06]\n",
      " [3.0054912e-04 2.2906203e-05 4.0256779e-08 ... 5.0358642e-05\n",
      "  1.1637899e-06 9.5914929e-06]\n",
      " [1.9948267e-04 3.2654602e-06 2.7302812e-08 ... 1.0959447e-05\n",
      "  3.1970993e-07 1.5648915e-06]]\n"
     ]
    }
   ],
   "source": [
    "print(\"Evaluate on test data\")\n",
    "results = model.evaluate(X_test, Y_test_label)\n",
    "print(\"test loss, test acc:\", results)\n",
    "\n",
    "# Generate predictions (probabilities -- the output of the last layer)\n",
    "# on new data using `predict`\n",
    "print(\"Generate predictions for 3 samples\")\n",
    "predictions = model.predict(X_test)\n",
    "print(\"predictions shape:\", predictions)"
   ]
  },
  {
   "cell_type": "code",
   "execution_count": null,
   "id": "1a71f523",
   "metadata": {},
   "outputs": [],
   "source": [
    "from diffprivlib.models import GaussianNB\n",
    "clf = GaussianNB(epsilon=1,bounds=(-50e50, 50e50))\n",
    "clf.fit(X_train, gallery_pids)"
   ]
  },
  {
   "cell_type": "code",
   "execution_count": null,
   "id": "1a95318a",
   "metadata": {},
   "outputs": [],
   "source": [
    "clf.predict(X_test)\n",
    "print(\"Test accuracy: %f\" % clf.score(X_test, query_pids))"
   ]
  },
  {
   "cell_type": "code",
   "execution_count": 11,
   "id": "51cec2b1",
   "metadata": {},
   "outputs": [],
   "source": [
    "def Hbeta(D=np.array([]), beta=1.0):\n",
    "    \"\"\"\n",
    "        Compute the perplexity and the P-row for a specific value of the\n",
    "        precision of a Gaussian distribution.\n",
    "    \"\"\"\n",
    "\n",
    "    # Compute P-row and corresponding perplexity\n",
    "    P = np.exp(-D.copy() * beta)\n",
    "    sumP = sum(P)\n",
    "    H = np.log(sumP) + beta * np.sum(D * P) / sumP\n",
    "    P = P / sumP\n",
    "    return H, P\n",
    "\n",
    "def x2p(X=np.array([]), tol=1e-5, perplexity=30.0):\n",
    "    \"\"\"\n",
    "        Performs a binary search to get P-values in such a way that each\n",
    "        conditional Gaussian has the same perplexity.\n",
    "    \"\"\"\n",
    "\n",
    "    # Initialize some variables\n",
    "    print(\"Computing pairwise distances...\")\n",
    "    (n, d) = X.shape\n",
    "    sum_X = np.sum(np.square(X), 1)\n",
    "    D = np.add(np.add(-2 * np.dot(X, X.T), sum_X).T, sum_X)\n",
    "    P = np.zeros((n, n))\n",
    "    beta = np.ones((n, 1))\n",
    "    logU = np.log(perplexity)\n",
    "\n",
    "    # Loop over all datapoints\n",
    "    for i in range(n):\n",
    "\n",
    "        # Print progress\n",
    "        if i % 500 == 0:\n",
    "            print(\"Computing P-values for point %d of %d...\" % (i, n))\n",
    "\n",
    "        # Compute the Gaussian kernel and entropy for the current precision\n",
    "        betamin = -np.inf\n",
    "        betamax = np.inf\n",
    "        Di = D[i, np.concatenate((np.r_[0:i], np.r_[i+1:n]))]\n",
    "        (H, thisP) = Hbeta(Di, beta[i])\n",
    "\n",
    "        # Evaluate whether the perplexity is within tolerance\n",
    "        Hdiff = H - logU\n",
    "        tries = 0\n",
    "        while np.abs(Hdiff) > tol and tries < 50:\n",
    "\n",
    "            # If not, increase or decrease precision\n",
    "            if Hdiff > 0:\n",
    "                betamin = beta[i].copy()\n",
    "                if betamax == np.inf or betamax == -np.inf:\n",
    "                    beta[i] = beta[i] * 2.\n",
    "                else:\n",
    "                    beta[i] = (beta[i] + betamax) / 2.\n",
    "            else:\n",
    "                betamax = beta[i].copy()\n",
    "                if betamin == np.inf or betamin == -np.inf:\n",
    "                    beta[i] = beta[i] / 2.\n",
    "                else:\n",
    "                    beta[i] = (beta[i] + betamin) / 2.\n",
    "\n",
    "            # Recompute the values\n",
    "            (H, thisP) = Hbeta(Di, beta[i])\n",
    "            Hdiff = H - logU\n",
    "            tries += 1\n",
    "\n",
    "        # Set the final row of P\n",
    "        P[i, np.concatenate((np.r_[0:i], np.r_[i+1:n]))] = thisP\n",
    "\n",
    "    # Return final P-matrix\n",
    "    print(\"Mean value of sigma: %f\" % np.mean(np.sqrt(1 / beta)))\n",
    "    return P\n",
    "\n",
    "def pca(X=np.array([]), no_dims=50):\n",
    "    \"\"\"\n",
    "        Runs PCA on the NxD array X in order to reduce its dimensionality to\n",
    "        no_dims dimensions.\n",
    "    \"\"\"\n",
    "\n",
    "    print(\"Preprocessing the data using PCA...\")\n",
    "    (n, d) = X.shape\n",
    "    X = X - np.tile(np.mean(X, 0), (n, 1))\n",
    "    (l, M) = np.linalg.eig(np.dot(X.T, X))\n",
    "    Y = np.dot(X, M[:, 0:no_dims])\n",
    "    return Y\n",
    "def tsne(X=np.array([]), no_dims=2, initial_dims=50, perplexity=30.0):\n",
    "    \"\"\"\n",
    "        Runs t-SNE on the dataset in the NxD array X to reduce its\n",
    "        dimensionality to no_dims dimensions. The syntaxis of the function is\n",
    "        `Y = tsne.tsne(X, no_dims, perplexity), where X is an NxD NumPy array.\n",
    "    \"\"\"\n",
    "\n",
    "    # Check inputs\n",
    "    if isinstance(no_dims, float):\n",
    "        print(\"Error: array X should have type float.\")\n",
    "        return -1\n",
    "    if round(no_dims) != no_dims:\n",
    "        print(\"Error: number of dimensions should be an integer.\")\n",
    "        return -1\n",
    "\n",
    "    # Initialize variables\n",
    "    X = pca(X, initial_dims).real\n",
    "    (n, d) = X.shape\n",
    "    max_iter = 10\n",
    "    initial_momentum = 0.5\n",
    "    final_momentum = 0.8\n",
    "    eta = 200\n",
    "    min_gain = 0.01\n",
    "    Y = np.random.randn(n, no_dims)\n",
    "    dY = np.zeros((n, no_dims))\n",
    "    iY = np.zeros((n, no_dims))\n",
    "    gains = np.ones((n, no_dims))\n",
    "\n",
    "    # Compute P-values\n",
    "    P = x2p(X, 1e-5, perplexity)\n",
    "    P = P + np.transpose(P)\n",
    "    P = P / np.sum(P)\n",
    "    P = P * 4.\t\t\t\t\t\t\t\t\t# early exaggeration\n",
    "    P = np.maximum(P, 1e-12)\n",
    "    \n",
    "\n",
    "    # Run iterations\n",
    "    for iter in range(max_iter):\n",
    "\n",
    "        # Compute pairwise affinities\n",
    "        sum_Y = np.sum(np.square(Y), 1)\n",
    "        num = -2. * np.dot(Y, Y.T)\n",
    "        num = 1. / (1. + np.add(np.add(num, sum_Y).T, sum_Y))\n",
    "        num[range(n), range(n)] = 0.\n",
    "        Q = num / np.sum(num)\n",
    "        Q = np.maximum(Q, 1e-12)\n",
    "\n",
    "        # Compute gradient\n",
    "        PQ = P - Q\n",
    "        for i in range(n):\n",
    "            dY[i, :] = np.sum(np.tile(PQ[:, i] * num[:, i], (no_dims, 1)).T * (Y[i, :] - Y), 0)\n",
    "\n",
    "        # Perform the update\n",
    "        if iter < 20:\n",
    "            momentum = initial_momentum\n",
    "        else:\n",
    "            momentum = final_momentum\n",
    "        gains = (gains + 0.2) * ((dY > 0.) != (iY > 0.)) + \\\n",
    "                (gains * 0.8) * ((dY > 0.) == (iY > 0.))\n",
    "        gains[gains < min_gain] = min_gain\n",
    "        iY = momentum * iY - eta * (gains * dY)\n",
    "        Y = Y + iY\n",
    "        Y = Y - np.tile(np.mean(Y, 0), (n, 1))\n",
    "\n",
    "        # Compute current value of cost function\n",
    "        if (iter + 1) % 10 == 0:\n",
    "            C = np.sum(P * np.log(P / Q))\n",
    "            print(\"Iteration %d: error is %f\" % (iter + 1, C))\n",
    "\n",
    "        # Stop lying about P-values\n",
    "        if iter == 100:\n",
    "            P = P / 4.\n",
    "\n",
    "    # Return solution\n",
    "    return Y\n",
    "             "
   ]
  },
  {
   "cell_type": "code",
   "execution_count": 22,
   "id": "bcb470a5",
   "metadata": {},
   "outputs": [
    {
     "name": "stdout",
     "output_type": "stream",
     "text": [
      "Preprocessing the data using PCA...\n",
      "Computing pairwise distances...\n",
      "Computing P-values for point 0 of 200...\n",
      "Mean value of sigma: 11.255098\n",
      "Iteration 10: error is 11.902957\n"
     ]
    },
    {
     "data": {
      "image/png": "[encoded data removed]",
      "text/plain": [
       "<Figure size 432x288 with 1 Axes>"
      ]
     },
     "metadata": {
      "needs_background": "light"
     },
     "output_type": "display_data"
    }
   ],
   "source": [
    "import pylab\n",
    "X = gallery_embs[100:300]\n",
    "lbl=list(map(int,gallery_pids))\n",
    "labels = lbl[100:300]#query_pids[0:20]\n",
    "pylab.figure()\n",
    "Y = tsne(X, 2, 50, 20.0)\n",
    "plt=pylab.scatter(Y[:, 0],Y[:,1],10,labels,marker='o')\n",
    "pylab.axis('off')\n",
    "pylab.savefig('rsltn3n1.pdf')\n",
    "pylab.show()"
   ]
  },
  {
   "cell_type": "code",
   "execution_count": null,
   "id": "a9a435bd",
   "metadata": {},
   "outputs": [],
   "source": []
  },
  {
   "cell_type": "code",
   "execution_count": null,
   "id": "9372e1f4",
   "metadata": {},
   "outputs": [],
   "source": [
    "print(\"Evaluate on test data\")\n",
    "results = model.evaluate(X_test, Y_test_label)\n",
    "print(\"test loss, test acc:\", results)\n",
    "\n",
    "# Generate predictions (probabilities -- the output of the last layer)\n",
    "# on new data using `predict`\n",
    "print(\"Generate predictions for 3 samples\")\n",
    "predictions = model.predict(X_test)\n",
    "print(\"predictions shape:\", predictions)"
   ]
  },
  {
   "cell_type": "code",
   "execution_count": 20,
   "id": "5ed85944",
   "metadata": {},
   "outputs": [
    {
     "name": "stdout",
     "output_type": "stream",
     "text": [
      "Preprocessing the data using PCA...\n",
      "Computing pairwise distances...\n",
      "Computing P-values for point 0 of 200...\n",
      "Mean value of sigma: 13.345691\n",
      "Iteration 10: error is 13.986041\n"
     ]
    },
    {
     "data": {
      "image/png": "[encoded data removed]",
      "text/plain": [
       "<Figure size 432x288 with 1 Axes>"
      ]
     },
     "metadata": {
      "needs_background": "light"
     },
     "output_type": "display_data"
    }
   ],
   "source": [
    "import pylab\n",
    "X = query_embs[300:500]\n",
    "lbl=list(map(int,query_pids))\n",
    "labels = lbl[500:700]#query_pids[0:20]\n",
    "pylab.figure()\n",
    "Y = tsne(X, 2, 50, 20.0)\n",
    "plt=pylab.scatter(Y[:, 0],Y[:,1],10,labels,marker='o')\n",
    "pylab.axis('off')\n",
    "pylab.savefig('rsltn3n2.pdf')\n",
    "pylab.show()"
   ]
  },
  {
   "cell_type": "code",
   "execution_count": null,
   "id": "c33a7203",
   "metadata": {},
   "outputs": [],
   "source": [
    "    #file = query_embs\n",
    "    #filel = query_pids\n",
    "    X = query_embs[0:50]\n",
    "    lbl=list(map(int,query_pids))\n",
    "    labels = lbl[0:50]#query_pids[0:20]\n",
    "    print(query_embs,query_pids)\n",
    "    #X = np.loadtxt(\"mnist2500_X.txt\")\n",
    "    pylab.figure()\n",
    "    Y = tsne(X, 2, 50, 20.0)\n",
    "    plt=pylab.scatter(Y[:, 0],Y[:,1],30,labels,marker='+')\n",
    "    pylab.axis('off')\n",
    "    pylab.legend('on')\n",
    "    pylab.savefig('rsltn3n1.pdf')\n",
    "    pylab.show()"
   ]
  },
  {
   "cell_type": "code",
   "execution_count": null,
   "id": "d7ee9660",
   "metadata": {},
   "outputs": [],
   "source": [
    "    #file = query_embs\n",
    "    #filel = query_pids\n",
    "    X = query_embs[0:50]\n",
    "    lbl=list(map(int,query_pids))\n",
    "    labels = lbl[0:50]#query_pids[0:20]\n",
    "    print(query_embs,query_pids)\n",
    "    #X = np.loadtxt(\"mnist2500_X.txt\")\n",
    "    pylab.figure()\n",
    "    Y = tsne(X, 2, 50, 20.0)\n",
    "    plt=pylab.scatter(Y[:, 0],Y[:,1],30,labels,marker='+')\n",
    "    pylab.axis('off')\n",
    "    pylab.legend('on')\n",
    "    pylab.savefig('rsltn3n1.pdf')\n",
    "    pylab.show()"
   ]
  }
 ],
 "metadata": {
  "kernelspec": {
   "display_name": "Python 3",
   "language": "python",
   "name": "python3"
  },
  "language_info": {
   "codemirror_mode": {
    "name": "ipython",
    "version": 3
   },
   "file_extension": ".py",
   "mimetype": "text/x-python",
   "name": "python",
   "nbconvert_exporter": "python",
   "pygments_lexer": "ipython3",
   "version": "3.8.8"
  }
 },
 "nbformat": 4,
 "nbformat_minor": 5
}
