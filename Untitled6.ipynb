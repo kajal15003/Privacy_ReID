{
 "cells": [
  {
   "cell_type": "code",
   "execution_count": 1,
   "id": "a2ed90ac",
   "metadata": {},
   "outputs": [],
   "source": [
    "import tensorflow as tf"
   ]
  },
  {
   "cell_type": "code",
   "execution_count": 2,
   "id": "8e83c9e9",
   "metadata": {},
   "outputs": [
    {
     "name": "stdout",
     "output_type": "stream",
     "text": [
      "Fri Jun 10 13:41:59 2022       \n",
      "+-----------------------------------------------------------------------------+\n",
      "| NVIDIA-SMI 495.29.05    Driver Version: 495.29.05    CUDA Version: 11.5     |\n",
      "|-------------------------------+----------------------+----------------------+\n",
      "| GPU  Name        Persistence-M| Bus-Id        Disp.A | Volatile Uncorr. ECC |\n",
      "| Fan  Temp  Perf  Pwr:Usage/Cap|         Memory-Usage | GPU-Util  Compute M. |\n",
      "|                               |                      |               MIG M. |\n",
      "|===============================+======================+======================|\n",
      "|   0  NVIDIA GeForce ...  On   | 00000000:3B:00.0 Off |                  N/A |\n",
      "| 27%   20C    P8    15W / 250W |   1213MiB / 11019MiB |      0%      Default |\n",
      "|                               |                      |                  N/A |\n",
      "+-------------------------------+----------------------+----------------------+\n",
      "|   1  NVIDIA GeForce ...  On   | 00000000:5E:00.0 Off |                  N/A |\n",
      "| 27%   21C    P8     1W / 250W |   1213MiB / 11019MiB |      0%      Default |\n",
      "|                               |                      |                  N/A |\n",
      "+-------------------------------+----------------------+----------------------+\n",
      "|   2  NVIDIA GeForce ...  On   | 00000000:AF:00.0 Off |                  N/A |\n",
      "| 27%   20C    P8     3W / 250W |   1213MiB / 11019MiB |      0%      Default |\n",
      "|                               |                      |                  N/A |\n",
      "+-------------------------------+----------------------+----------------------+\n",
      "|   3  NVIDIA GeForce ...  On   | 00000000:D8:00.0 Off |                  N/A |\n",
      "| 27%   20C    P8     1W / 250W |   1213MiB / 11019MiB |      0%      Default |\n",
      "|                               |                      |                  N/A |\n",
      "+-------------------------------+----------------------+----------------------+\n",
      "                                                                               \n",
      "+-----------------------------------------------------------------------------+\n",
      "| Processes:                                                                  |\n",
      "|  GPU   GI   CI        PID   Type   Process name                  GPU Memory |\n",
      "|        ID   ID                                                   Usage      |\n",
      "|=============================================================================|\n",
      "|    0   N/A  N/A      1983      C   python                            151MiB |\n",
      "|    0   N/A  N/A      3461      C   python                            151MiB |\n",
      "|    0   N/A  N/A      5610      C   python                            151MiB |\n",
      "|    0   N/A  N/A     15544      C   python                            151MiB |\n",
      "|    0   N/A  N/A     26504      C   python                            151MiB |\n",
      "|    0   N/A  N/A     30930      C   python                            151MiB |\n",
      "|    0   N/A  N/A     36693      C   python                            151MiB |\n",
      "|    0   N/A  N/A     37568      C   python                            151MiB |\n",
      "|    1   N/A  N/A      1983      C   python                            151MiB |\n",
      "|    1   N/A  N/A      3461      C   python                            151MiB |\n",
      "|    1   N/A  N/A      5610      C   python                            151MiB |\n",
      "|    1   N/A  N/A     15544      C   python                            151MiB |\n",
      "|    1   N/A  N/A     26504      C   python                            151MiB |\n",
      "|    1   N/A  N/A     30930      C   python                            151MiB |\n",
      "|    1   N/A  N/A     36693      C   python                            151MiB |\n",
      "|    1   N/A  N/A     37568      C   python                            151MiB |\n",
      "|    2   N/A  N/A      1983      C   python                            151MiB |\n",
      "|    2   N/A  N/A      3461      C   python                            151MiB |\n",
      "|    2   N/A  N/A      5610      C   python                            151MiB |\n",
      "|    2   N/A  N/A     15544      C   python                            151MiB |\n",
      "|    2   N/A  N/A     26504      C   python                            151MiB |\n",
      "|    2   N/A  N/A     30930      C   python                            151MiB |\n",
      "|    2   N/A  N/A     36693      C   python                            151MiB |\n",
      "|    2   N/A  N/A     37568      C   python                            151MiB |\n",
      "|    3   N/A  N/A      1983      C   python                            151MiB |\n",
      "|    3   N/A  N/A      3461      C   python                            151MiB |\n",
      "|    3   N/A  N/A      5610      C   python                            151MiB |\n",
      "|    3   N/A  N/A     15544      C   python                            151MiB |\n",
      "|    3   N/A  N/A     26504      C   python                            151MiB |\n",
      "|    3   N/A  N/A     30930      C   python                            151MiB |\n",
      "|    3   N/A  N/A     36693      C   python                            151MiB |\n",
      "|    3   N/A  N/A     37568      C   python                            151MiB |\n",
      "+-----------------------------------------------------------------------------+\n"
     ]
    }
   ],
   "source": [
    "!nvidia-smi"
   ]
  },
  {
   "cell_type": "code",
   "execution_count": null,
   "id": "d7da8260",
   "metadata": {},
   "outputs": [],
   "source": []
  }
 ],
 "metadata": {
  "kernelspec": {
   "display_name": "Python 3",
   "language": "python",
   "name": "python3"
  },
  "language_info": {
   "codemirror_mode": {
    "name": "ipython",
    "version": 3
   },
   "file_extension": ".py",
   "mimetype": "text/x-python",
   "name": "python",
   "nbconvert_exporter": "python",
   "pygments_lexer": "ipython3",
   "version": "3.8.8"
  }
 },
 "nbformat": 4,
 "nbformat_minor": 5
}
