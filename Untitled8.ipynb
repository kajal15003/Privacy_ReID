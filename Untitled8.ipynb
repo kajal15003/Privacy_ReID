{
 "cells": [
  {
   "cell_type": "code",
   "execution_count": 4,
   "id": "e9b2af92",
   "metadata": {},
   "outputs": [
    {
     "name": "stdout",
     "output_type": "stream",
     "text": [
      "Sat Oct 29 13:04:32 2022       \n",
      "+-----------------------------------------------------------------------------+\n",
      "| NVIDIA-SMI 465.19.01    Driver Version: 465.19.01    CUDA Version: 11.3     |\n",
      "|-------------------------------+----------------------+----------------------+\n",
      "| GPU  Name        Persistence-M| Bus-Id        Disp.A | Volatile Uncorr. ECC |\n",
      "| Fan  Temp  Perf  Pwr:Usage/Cap|         Memory-Usage | GPU-Util  Compute M. |\n",
      "|                               |                      |               MIG M. |\n",
      "|===============================+======================+======================|\n",
      "|   0  NVIDIA GeForce ...  On   | 00000000:3B:00.0 Off |                  N/A |\n",
      "| 27%   24C    P8     3W / 250W |  10629MiB / 11019MiB |      0%      Default |\n",
      "|                               |                      |                  N/A |\n",
      "+-------------------------------+----------------------+----------------------+\n",
      "|   1  NVIDIA GeForce ...  On   | 00000000:5E:00.0 Off |                  N/A |\n",
      "| 27%   24C    P8    10W / 250W |   1077MiB / 11019MiB |      0%      Default |\n",
      "|                               |                      |                  N/A |\n",
      "+-------------------------------+----------------------+----------------------+\n",
      "|   2  NVIDIA GeForce ...  On   | 00000000:AF:00.0 Off |                  N/A |\n",
      "| 27%   24C    P8     3W / 250W |   1077MiB / 11019MiB |      0%      Default |\n",
      "|                               |                      |                  N/A |\n",
      "+-------------------------------+----------------------+----------------------+\n",
      "|   3  NVIDIA GeForce ...  On   | 00000000:D8:00.0 Off |                  N/A |\n",
      "| 27%   27C    P2    48W / 250W |   1228MiB / 11019MiB |      0%      Default |\n",
      "|                               |                      |                  N/A |\n",
      "+-------------------------------+----------------------+----------------------+\n",
      "                                                                               \n",
      "+-----------------------------------------------------------------------------+\n",
      "| Processes:                                                                  |\n",
      "|  GPU   GI   CI        PID   Type   Process name                  GPU Memory |\n",
      "|        ID   ID                                                   Usage      |\n",
      "|=============================================================================|\n",
      "|    0   N/A  N/A     28168      C   python                            151MiB |\n",
      "|    0   N/A  N/A     28374      C   ...ajal/anaconda3/bin/python     9871MiB |\n",
      "|    0   N/A  N/A     38115      C   python                            151MiB |\n",
      "|    0   N/A  N/A     42228      C   python                            151MiB |\n",
      "|    0   N/A  N/A     46932      C   python                            151MiB |\n",
      "|    0   N/A  N/A     47927      C   python                            151MiB |\n",
      "|    1   N/A  N/A     28168      C   python                            151MiB |\n",
      "|    1   N/A  N/A     28374      C   ...ajal/anaconda3/bin/python      315MiB |\n",
      "|    1   N/A  N/A     38115      C   python                            151MiB |\n",
      "|    1   N/A  N/A     42228      C   python                            151MiB |\n",
      "|    1   N/A  N/A     46932      C   python                            151MiB |\n",
      "|    1   N/A  N/A     47927      C   python                            151MiB |\n",
      "|    2   N/A  N/A     28168      C   python                            151MiB |\n",
      "|    2   N/A  N/A     28374      C   ...ajal/anaconda3/bin/python      315MiB |\n",
      "|    2   N/A  N/A     38115      C   python                            151MiB |\n",
      "|    2   N/A  N/A     42228      C   python                            151MiB |\n",
      "|    2   N/A  N/A     46932      C   python                            151MiB |\n",
      "|    2   N/A  N/A     47927      C   python                            151MiB |\n",
      "|    3   N/A  N/A     28168      C   python                            151MiB |\n",
      "|    3   N/A  N/A     28374      C   ...ajal/anaconda3/bin/python      315MiB |\n",
      "|    3   N/A  N/A     29617      C   python                            151MiB |\n",
      "|    3   N/A  N/A     38115      C   python                            151MiB |\n",
      "|    3   N/A  N/A     42228      C   python                            151MiB |\n",
      "|    3   N/A  N/A     46932      C   python                            151MiB |\n",
      "|    3   N/A  N/A     47927      C   python                            151MiB |\n",
      "+-----------------------------------------------------------------------------+\n"
     ]
    }
   ],
   "source": [
    "!nvidia-smi"
   ]
  },
  {
   "cell_type": "code",
   "execution_count": null,
   "id": "85d7cb94",
   "metadata": {},
   "outputs": [],
   "source": []
  }
 ],
 "metadata": {
  "kernelspec": {
   "display_name": "Python 3",
   "language": "python",
   "name": "python3"
  },
  "language_info": {
   "codemirror_mode": {
    "name": "ipython",
    "version": 3
   },
   "file_extension": ".py",
   "mimetype": "text/x-python",
   "name": "python",
   "nbconvert_exporter": "python",
   "pygments_lexer": "ipython3",
   "version": "3.8.8"
  }
 },
 "nbformat": 4,
 "nbformat_minor": 5
}
